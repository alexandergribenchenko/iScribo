{
  "nbformat": 4,
  "nbformat_minor": 0,
  "metadata": {
    "colab": {
      "name": "iScribo_Notebook_Reemplazos_V_01.ipynb",
      "provenance": [],
      "collapsed_sections": [],
      "authorship_tag": "ABX9TyO7RO6NxMUXtfvEpZq4ypgf",
      "include_colab_link": true
    },
    "kernelspec": {
      "name": "python3",
      "display_name": "Python 3"
    },
    "language_info": {
      "name": "python"
    }
  },
  "cells": [
    {
      "cell_type": "markdown",
      "metadata": {
        "id": "view-in-github",
        "colab_type": "text"
      },
      "source": [
        "<a href=\"https://colab.research.google.com/github/alexandergribenchenko/iScribo/blob/main/iScribo_Notebook_Reemplazos_V_01.ipynb\" target=\"_parent\"><img src=\"https://colab.research.google.com/assets/colab-badge.svg\" alt=\"Open In Colab\"/></a>"
      ]
    },
    {
      "cell_type": "markdown",
      "metadata": {
        "id": "JpYlgSc54pLw"
      },
      "source": [
        "# 00. Carga de librerias y montaje del Drive"
      ]
    },
    {
      "cell_type": "code",
      "metadata": {
        "id": "oGCFqLZSMZ12"
      },
      "source": [
        "import pandas as pd\n",
        "import random"
      ],
      "execution_count": 1,
      "outputs": []
    },
    {
      "cell_type": "code",
      "metadata": {
        "colab": {
          "base_uri": "https://localhost:8080/"
        },
        "id": "rGNJ94v1PG26",
        "outputId": "74f41cbe-76b2-4d1d-af12-2fbf340b3ede"
      },
      "source": [
        "from google.colab import drive\n",
        "drive.mount('/content/drive')"
      ],
      "execution_count": 2,
      "outputs": [
        {
          "output_type": "stream",
          "text": [
            "Drive already mounted at /content/drive; to attempt to forcibly remount, call drive.mount(\"/content/drive\", force_remount=True).\n"
          ],
          "name": "stdout"
        }
      ]
    },
    {
      "cell_type": "markdown",
      "metadata": {
        "id": "R2DFPzS-KRKZ"
      },
      "source": [
        "# 01. Entradas del Notebook"
      ]
    },
    {
      "cell_type": "code",
      "metadata": {
        "id": "6RD_ZguPz1MP"
      },
      "source": [
        "### Entradas del Notebook\n",
        "# 01. CSV de una única columna (con header de nombre 'buenos'): contiene en cada registro una frase escrita de manera correcta\n",
        "path_frases_buenas = \"/content/drive/MyDrive/Colab Notebooks/Trascender_Global_Colab/P_01_iScribo/iScribo_Data/Corpus Resultados/df_master_entrenamiento_2021_03_24.csv\"\n",
        "# 02. CSV (separado por ';') de 2 columnas que contiene lso reemplazos que se desean hacer: columna izquiera valor actual, columna derecha valor por el que se reemplaza\n",
        "path_reemplazos = \"/content/drive/MyDrive/Colab Notebooks/Trascender_Global_Colab/P_01_iScribo/iScribo_Data/Matriz_Reemplazos.csv\"\n",
        "# 03. Porcentaje de las muestras en las que se quiere que se haga un reemplazo específico\n",
        "porcentaje_muestras = 50"
      ],
      "execution_count": 3,
      "outputs": []
    },
    {
      "cell_type": "markdown",
      "metadata": {
        "id": "syY1S7Xt3g0w"
      },
      "source": [
        "# 02. Carga de los archivos de entrada"
      ]
    },
    {
      "cell_type": "code",
      "metadata": {
        "id": "nxRzTtITzUwa"
      },
      "source": [
        "df = pd.read_csv(path_frases_buenas, sep='|', usecols=['buenos'], nrows=100)"
      ],
      "execution_count": 4,
      "outputs": []
    },
    {
      "cell_type": "code",
      "metadata": {
        "colab": {
          "base_uri": "https://localhost:8080/",
          "height": 419
        },
        "id": "lYVBuos6zmma",
        "outputId": "aff549b8-6384-49ff-87ab-a0276668feab"
      },
      "source": [
        "df"
      ],
      "execution_count": 5,
      "outputs": [
        {
          "output_type": "execute_result",
          "data": {
            "text/html": [
              "<div>\n",
              "<style scoped>\n",
              "    .dataframe tbody tr th:only-of-type {\n",
              "        vertical-align: middle;\n",
              "    }\n",
              "\n",
              "    .dataframe tbody tr th {\n",
              "        vertical-align: top;\n",
              "    }\n",
              "\n",
              "    .dataframe thead th {\n",
              "        text-align: right;\n",
              "    }\n",
              "</style>\n",
              "<table border=\"1\" class=\"dataframe\">\n",
              "  <thead>\n",
              "    <tr style=\"text-align: right;\">\n",
              "      <th></th>\n",
              "      <th>buenos</th>\n",
              "    </tr>\n",
              "  </thead>\n",
              "  <tbody>\n",
              "    <tr>\n",
              "      <th>0</th>\n",
              "      <td>Robin finalmente toma la decisión de dejar a l...</td>\n",
              "    </tr>\n",
              "    <tr>\n",
              "      <th>1</th>\n",
              "      <td>Después de un intento fallido de hacer que Kid...</td>\n",
              "    </tr>\n",
              "    <tr>\n",
              "      <th>2</th>\n",
              "      <td>Sin embargo, ella finalmente decide no hacerlo...</td>\n",
              "    </tr>\n",
              "    <tr>\n",
              "      <th>3</th>\n",
              "      <td>Algunos meses más tarde, entre la Crisis Final...</td>\n",
              "    </tr>\n",
              "    <tr>\n",
              "      <th>4</th>\n",
              "      <td>A pesar de encontrarse con él brevemente en su...</td>\n",
              "    </tr>\n",
              "    <tr>\n",
              "      <th>...</th>\n",
              "      <td>...</td>\n",
              "    </tr>\n",
              "    <tr>\n",
              "      <th>95</th>\n",
              "      <td>Publicó una serie de documentos en el área de ...</td>\n",
              "    </tr>\n",
              "    <tr>\n",
              "      <th>96</th>\n",
              "      <td>De 1991 a 1995 residió en Londres, Bosnia y Su...</td>\n",
              "    </tr>\n",
              "    <tr>\n",
              "      <th>97</th>\n",
              "      <td>El 29 de diciembre de 2013, él y otros dos per...</td>\n",
              "    </tr>\n",
              "    <tr>\n",
              "      <th>98</th>\n",
              "      <td>El 23 de junio de 2014, Greste fue declarado c...</td>\n",
              "    </tr>\n",
              "    <tr>\n",
              "      <th>99</th>\n",
              "      <td>Fue mejor conocido como el vocalista de la ban...</td>\n",
              "    </tr>\n",
              "  </tbody>\n",
              "</table>\n",
              "<p>100 rows × 1 columns</p>\n",
              "</div>"
            ],
            "text/plain": [
              "                                               buenos\n",
              "0   Robin finalmente toma la decisión de dejar a l...\n",
              "1   Después de un intento fallido de hacer que Kid...\n",
              "2   Sin embargo, ella finalmente decide no hacerlo...\n",
              "3   Algunos meses más tarde, entre la Crisis Final...\n",
              "4   A pesar de encontrarse con él brevemente en su...\n",
              "..                                                ...\n",
              "95  Publicó una serie de documentos en el área de ...\n",
              "96  De 1991 a 1995 residió en Londres, Bosnia y Su...\n",
              "97  El 29 de diciembre de 2013, él y otros dos per...\n",
              "98  El 23 de junio de 2014, Greste fue declarado c...\n",
              "99  Fue mejor conocido como el vocalista de la ban...\n",
              "\n",
              "[100 rows x 1 columns]"
            ]
          },
          "metadata": {
            "tags": []
          },
          "execution_count": 5
        }
      ]
    },
    {
      "cell_type": "code",
      "metadata": {
        "colab": {
          "base_uri": "https://localhost:8080/",
          "height": 111
        },
        "id": "MzZwj6e6J7Ug",
        "outputId": "f0fbd2a0-4c11-42fd-e6e4-264e26a73cd0"
      },
      "source": [
        "df_reemplazos = pd.read_csv(path_reemplazos, sep=';', header=None)\n",
        "df_reemplazos"
      ],
      "execution_count": 6,
      "outputs": [
        {
          "output_type": "execute_result",
          "data": {
            "text/html": [
              "<div>\n",
              "<style scoped>\n",
              "    .dataframe tbody tr th:only-of-type {\n",
              "        vertical-align: middle;\n",
              "    }\n",
              "\n",
              "    .dataframe tbody tr th {\n",
              "        vertical-align: top;\n",
              "    }\n",
              "\n",
              "    .dataframe thead th {\n",
              "        text-align: right;\n",
              "    }\n",
              "</style>\n",
              "<table border=\"1\" class=\"dataframe\">\n",
              "  <thead>\n",
              "    <tr style=\"text-align: right;\">\n",
              "      <th></th>\n",
              "      <th>0</th>\n",
              "      <th>1</th>\n",
              "    </tr>\n",
              "  </thead>\n",
              "  <tbody>\n",
              "    <tr>\n",
              "      <th>0</th>\n",
              "      <td>e</td>\n",
              "      <td>ee</td>\n",
              "    </tr>\n",
              "    <tr>\n",
              "      <th>1</th>\n",
              "      <td>a</td>\n",
              "      <td>aa</td>\n",
              "    </tr>\n",
              "  </tbody>\n",
              "</table>\n",
              "</div>"
            ],
            "text/plain": [
              "   0   1\n",
              "0  e  ee\n",
              "1  a  aa"
            ]
          },
          "metadata": {
            "tags": []
          },
          "execution_count": 6
        }
      ]
    },
    {
      "cell_type": "markdown",
      "metadata": {
        "id": "YsSVowtOKZys"
      },
      "source": [
        "# 03. Procesamiento de los archivos de entrada"
      ]
    },
    {
      "cell_type": "code",
      "metadata": {
        "colab": {
          "base_uri": "https://localhost:8080/",
          "height": 419
        },
        "id": "4wuMCP6S-nlS",
        "outputId": "e779cf3a-127a-43d8-a050-14633c113611"
      },
      "source": [
        "df['malos']=df.buenos\n",
        "df"
      ],
      "execution_count": 7,
      "outputs": [
        {
          "output_type": "execute_result",
          "data": {
            "text/html": [
              "<div>\n",
              "<style scoped>\n",
              "    .dataframe tbody tr th:only-of-type {\n",
              "        vertical-align: middle;\n",
              "    }\n",
              "\n",
              "    .dataframe tbody tr th {\n",
              "        vertical-align: top;\n",
              "    }\n",
              "\n",
              "    .dataframe thead th {\n",
              "        text-align: right;\n",
              "    }\n",
              "</style>\n",
              "<table border=\"1\" class=\"dataframe\">\n",
              "  <thead>\n",
              "    <tr style=\"text-align: right;\">\n",
              "      <th></th>\n",
              "      <th>buenos</th>\n",
              "      <th>malos</th>\n",
              "    </tr>\n",
              "  </thead>\n",
              "  <tbody>\n",
              "    <tr>\n",
              "      <th>0</th>\n",
              "      <td>Robin finalmente toma la decisión de dejar a l...</td>\n",
              "      <td>Robin finalmente toma la decisión de dejar a l...</td>\n",
              "    </tr>\n",
              "    <tr>\n",
              "      <th>1</th>\n",
              "      <td>Después de un intento fallido de hacer que Kid...</td>\n",
              "      <td>Después de un intento fallido de hacer que Kid...</td>\n",
              "    </tr>\n",
              "    <tr>\n",
              "      <th>2</th>\n",
              "      <td>Sin embargo, ella finalmente decide no hacerlo...</td>\n",
              "      <td>Sin embargo, ella finalmente decide no hacerlo...</td>\n",
              "    </tr>\n",
              "    <tr>\n",
              "      <th>3</th>\n",
              "      <td>Algunos meses más tarde, entre la Crisis Final...</td>\n",
              "      <td>Algunos meses más tarde, entre la Crisis Final...</td>\n",
              "    </tr>\n",
              "    <tr>\n",
              "      <th>4</th>\n",
              "      <td>A pesar de encontrarse con él brevemente en su...</td>\n",
              "      <td>A pesar de encontrarse con él brevemente en su...</td>\n",
              "    </tr>\n",
              "    <tr>\n",
              "      <th>...</th>\n",
              "      <td>...</td>\n",
              "      <td>...</td>\n",
              "    </tr>\n",
              "    <tr>\n",
              "      <th>95</th>\n",
              "      <td>Publicó una serie de documentos en el área de ...</td>\n",
              "      <td>Publicó una serie de documentos en el área de ...</td>\n",
              "    </tr>\n",
              "    <tr>\n",
              "      <th>96</th>\n",
              "      <td>De 1991 a 1995 residió en Londres, Bosnia y Su...</td>\n",
              "      <td>De 1991 a 1995 residió en Londres, Bosnia y Su...</td>\n",
              "    </tr>\n",
              "    <tr>\n",
              "      <th>97</th>\n",
              "      <td>El 29 de diciembre de 2013, él y otros dos per...</td>\n",
              "      <td>El 29 de diciembre de 2013, él y otros dos per...</td>\n",
              "    </tr>\n",
              "    <tr>\n",
              "      <th>98</th>\n",
              "      <td>El 23 de junio de 2014, Greste fue declarado c...</td>\n",
              "      <td>El 23 de junio de 2014, Greste fue declarado c...</td>\n",
              "    </tr>\n",
              "    <tr>\n",
              "      <th>99</th>\n",
              "      <td>Fue mejor conocido como el vocalista de la ban...</td>\n",
              "      <td>Fue mejor conocido como el vocalista de la ban...</td>\n",
              "    </tr>\n",
              "  </tbody>\n",
              "</table>\n",
              "<p>100 rows × 2 columns</p>\n",
              "</div>"
            ],
            "text/plain": [
              "                                               buenos                                              malos\n",
              "0   Robin finalmente toma la decisión de dejar a l...  Robin finalmente toma la decisión de dejar a l...\n",
              "1   Después de un intento fallido de hacer que Kid...  Después de un intento fallido de hacer que Kid...\n",
              "2   Sin embargo, ella finalmente decide no hacerlo...  Sin embargo, ella finalmente decide no hacerlo...\n",
              "3   Algunos meses más tarde, entre la Crisis Final...  Algunos meses más tarde, entre la Crisis Final...\n",
              "4   A pesar de encontrarse con él brevemente en su...  A pesar de encontrarse con él brevemente en su...\n",
              "..                                                ...                                                ...\n",
              "95  Publicó una serie de documentos en el área de ...  Publicó una serie de documentos en el área de ...\n",
              "96  De 1991 a 1995 residió en Londres, Bosnia y Su...  De 1991 a 1995 residió en Londres, Bosnia y Su...\n",
              "97  El 29 de diciembre de 2013, él y otros dos per...  El 29 de diciembre de 2013, él y otros dos per...\n",
              "98  El 23 de junio de 2014, Greste fue declarado c...  El 23 de junio de 2014, Greste fue declarado c...\n",
              "99  Fue mejor conocido como el vocalista de la ban...  Fue mejor conocido como el vocalista de la ban...\n",
              "\n",
              "[100 rows x 2 columns]"
            ]
          },
          "metadata": {
            "tags": []
          },
          "execution_count": 7
        }
      ]
    },
    {
      "cell_type": "code",
      "metadata": {
        "colab": {
          "base_uri": "https://localhost:8080/"
        },
        "id": "hog2jHtGzmkQ",
        "outputId": "a9309836-c1b3-4692-dd19-ebd949afd915"
      },
      "source": [
        "len(df)"
      ],
      "execution_count": 8,
      "outputs": [
        {
          "output_type": "execute_result",
          "data": {
            "text/plain": [
              "100"
            ]
          },
          "metadata": {
            "tags": []
          },
          "execution_count": 8
        }
      ]
    },
    {
      "cell_type": "code",
      "metadata": {
        "colab": {
          "base_uri": "https://localhost:8080/",
          "height": 419
        },
        "id": "DP4S87lEqudN",
        "outputId": "923a4210-ea28-42f6-e5f7-e2f63331bf17"
      },
      "source": [
        "df_salida =  df.copy()\n",
        "df_salida"
      ],
      "execution_count": 9,
      "outputs": [
        {
          "output_type": "execute_result",
          "data": {
            "text/html": [
              "<div>\n",
              "<style scoped>\n",
              "    .dataframe tbody tr th:only-of-type {\n",
              "        vertical-align: middle;\n",
              "    }\n",
              "\n",
              "    .dataframe tbody tr th {\n",
              "        vertical-align: top;\n",
              "    }\n",
              "\n",
              "    .dataframe thead th {\n",
              "        text-align: right;\n",
              "    }\n",
              "</style>\n",
              "<table border=\"1\" class=\"dataframe\">\n",
              "  <thead>\n",
              "    <tr style=\"text-align: right;\">\n",
              "      <th></th>\n",
              "      <th>buenos</th>\n",
              "      <th>malos</th>\n",
              "    </tr>\n",
              "  </thead>\n",
              "  <tbody>\n",
              "    <tr>\n",
              "      <th>0</th>\n",
              "      <td>Robin finalmente toma la decisión de dejar a l...</td>\n",
              "      <td>Robin finalmente toma la decisión de dejar a l...</td>\n",
              "    </tr>\n",
              "    <tr>\n",
              "      <th>1</th>\n",
              "      <td>Después de un intento fallido de hacer que Kid...</td>\n",
              "      <td>Después de un intento fallido de hacer que Kid...</td>\n",
              "    </tr>\n",
              "    <tr>\n",
              "      <th>2</th>\n",
              "      <td>Sin embargo, ella finalmente decide no hacerlo...</td>\n",
              "      <td>Sin embargo, ella finalmente decide no hacerlo...</td>\n",
              "    </tr>\n",
              "    <tr>\n",
              "      <th>3</th>\n",
              "      <td>Algunos meses más tarde, entre la Crisis Final...</td>\n",
              "      <td>Algunos meses más tarde, entre la Crisis Final...</td>\n",
              "    </tr>\n",
              "    <tr>\n",
              "      <th>4</th>\n",
              "      <td>A pesar de encontrarse con él brevemente en su...</td>\n",
              "      <td>A pesar de encontrarse con él brevemente en su...</td>\n",
              "    </tr>\n",
              "    <tr>\n",
              "      <th>...</th>\n",
              "      <td>...</td>\n",
              "      <td>...</td>\n",
              "    </tr>\n",
              "    <tr>\n",
              "      <th>95</th>\n",
              "      <td>Publicó una serie de documentos en el área de ...</td>\n",
              "      <td>Publicó una serie de documentos en el área de ...</td>\n",
              "    </tr>\n",
              "    <tr>\n",
              "      <th>96</th>\n",
              "      <td>De 1991 a 1995 residió en Londres, Bosnia y Su...</td>\n",
              "      <td>De 1991 a 1995 residió en Londres, Bosnia y Su...</td>\n",
              "    </tr>\n",
              "    <tr>\n",
              "      <th>97</th>\n",
              "      <td>El 29 de diciembre de 2013, él y otros dos per...</td>\n",
              "      <td>El 29 de diciembre de 2013, él y otros dos per...</td>\n",
              "    </tr>\n",
              "    <tr>\n",
              "      <th>98</th>\n",
              "      <td>El 23 de junio de 2014, Greste fue declarado c...</td>\n",
              "      <td>El 23 de junio de 2014, Greste fue declarado c...</td>\n",
              "    </tr>\n",
              "    <tr>\n",
              "      <th>99</th>\n",
              "      <td>Fue mejor conocido como el vocalista de la ban...</td>\n",
              "      <td>Fue mejor conocido como el vocalista de la ban...</td>\n",
              "    </tr>\n",
              "  </tbody>\n",
              "</table>\n",
              "<p>100 rows × 2 columns</p>\n",
              "</div>"
            ],
            "text/plain": [
              "                                               buenos                                              malos\n",
              "0   Robin finalmente toma la decisión de dejar a l...  Robin finalmente toma la decisión de dejar a l...\n",
              "1   Después de un intento fallido de hacer que Kid...  Después de un intento fallido de hacer que Kid...\n",
              "2   Sin embargo, ella finalmente decide no hacerlo...  Sin embargo, ella finalmente decide no hacerlo...\n",
              "3   Algunos meses más tarde, entre la Crisis Final...  Algunos meses más tarde, entre la Crisis Final...\n",
              "4   A pesar de encontrarse con él brevemente en su...  A pesar de encontrarse con él brevemente en su...\n",
              "..                                                ...                                                ...\n",
              "95  Publicó una serie de documentos en el área de ...  Publicó una serie de documentos en el área de ...\n",
              "96  De 1991 a 1995 residió en Londres, Bosnia y Su...  De 1991 a 1995 residió en Londres, Bosnia y Su...\n",
              "97  El 29 de diciembre de 2013, él y otros dos per...  El 29 de diciembre de 2013, él y otros dos per...\n",
              "98  El 23 de junio de 2014, Greste fue declarado c...  El 23 de junio de 2014, Greste fue declarado c...\n",
              "99  Fue mejor conocido como el vocalista de la ban...  Fue mejor conocido como el vocalista de la ban...\n",
              "\n",
              "[100 rows x 2 columns]"
            ]
          },
          "metadata": {
            "tags": []
          },
          "execution_count": 9
        }
      ]
    },
    {
      "cell_type": "markdown",
      "metadata": {
        "id": "biscM1ZSKpwS"
      },
      "source": [
        "# 04. Sustituciones"
      ]
    },
    {
      "cell_type": "code",
      "metadata": {
        "id": "Df4OCRLX6Rjh"
      },
      "source": [
        "porcentaje_muestras = porcentaje_muestras\n",
        "umbral_max = len(df)\n",
        "cantidad_muestras = round(porcentaje_muestras * (len(df)/100))"
      ],
      "execution_count": 10,
      "outputs": []
    },
    {
      "cell_type": "code",
      "metadata": {
        "colab": {
          "base_uri": "https://localhost:8080/"
        },
        "id": "Kcf3R6hzLG3u",
        "outputId": "3e1a3919-1efc-4bcf-ed66-5d4de7a31cc7"
      },
      "source": [
        "cantidad_muestras"
      ],
      "execution_count": 11,
      "outputs": [
        {
          "output_type": "execute_result",
          "data": {
            "text/plain": [
              "50"
            ]
          },
          "metadata": {
            "tags": []
          },
          "execution_count": 11
        }
      ]
    },
    {
      "cell_type": "code",
      "metadata": {
        "id": "nC6OzVTBLeOv"
      },
      "source": [
        "total_indx=[]\n",
        "for i in range(len(df_reemplazos)):\n",
        "  index_to_replace = sorted(random.sample(range(umbral_max), cantidad_muestras))\n",
        "  df_a_sustituir = df_salida.loc[index_to_replace]\n",
        "  df_a_sustituir.malos = df_a_sustituir.malos.map(lambda x: x.replace(df_reemplazos.iloc[i][0], df_reemplazos.iloc[i][1]))\n",
        "  df_salida.loc[index_to_replace] = df_a_sustituir\n",
        "  total_indx+=index_to_replace"
      ],
      "execution_count": 12,
      "outputs": []
    },
    {
      "cell_type": "markdown",
      "metadata": {
        "id": "Xy0UBdsl4I9w"
      },
      "source": [
        "# 05. Salida del Notebook"
      ]
    },
    {
      "cell_type": "code",
      "metadata": {
        "colab": {
          "base_uri": "https://localhost:8080/",
          "height": 419
        },
        "id": "Fpan8osxLeLh",
        "outputId": "299ff0c8-1b65-4a17-d4b2-cebd7cbe65b5"
      },
      "source": [
        "df_salida"
      ],
      "execution_count": 17,
      "outputs": [
        {
          "output_type": "execute_result",
          "data": {
            "text/html": [
              "<div>\n",
              "<style scoped>\n",
              "    .dataframe tbody tr th:only-of-type {\n",
              "        vertical-align: middle;\n",
              "    }\n",
              "\n",
              "    .dataframe tbody tr th {\n",
              "        vertical-align: top;\n",
              "    }\n",
              "\n",
              "    .dataframe thead th {\n",
              "        text-align: right;\n",
              "    }\n",
              "</style>\n",
              "<table border=\"1\" class=\"dataframe\">\n",
              "  <thead>\n",
              "    <tr style=\"text-align: right;\">\n",
              "      <th></th>\n",
              "      <th>buenos</th>\n",
              "      <th>malos</th>\n",
              "    </tr>\n",
              "  </thead>\n",
              "  <tbody>\n",
              "    <tr>\n",
              "      <th>0</th>\n",
              "      <td>Robin finalmente toma la decisión de dejar a l...</td>\n",
              "      <td>Robin finalmente toma la decisión de dejar a l...</td>\n",
              "    </tr>\n",
              "    <tr>\n",
              "      <th>1</th>\n",
              "      <td>Después de un intento fallido de hacer que Kid...</td>\n",
              "      <td>Después de un intento faallido de haacer que K...</td>\n",
              "    </tr>\n",
              "    <tr>\n",
              "      <th>2</th>\n",
              "      <td>Sin embargo, ella finalmente decide no hacerlo...</td>\n",
              "      <td>Sin eembaargo, eellaa finaalmeentee deecidee n...</td>\n",
              "    </tr>\n",
              "    <tr>\n",
              "      <th>3</th>\n",
              "      <td>Algunos meses más tarde, entre la Crisis Final...</td>\n",
              "      <td>Algunos meses más taarde, entre laa Crisis Fin...</td>\n",
              "    </tr>\n",
              "    <tr>\n",
              "      <th>4</th>\n",
              "      <td>A pesar de encontrarse con él brevemente en su...</td>\n",
              "      <td>A pesar de encontrarse con él brevemente en su...</td>\n",
              "    </tr>\n",
              "    <tr>\n",
              "      <th>...</th>\n",
              "      <td>...</td>\n",
              "      <td>...</td>\n",
              "    </tr>\n",
              "    <tr>\n",
              "      <th>95</th>\n",
              "      <td>Publicó una serie de documentos en el área de ...</td>\n",
              "      <td>Publicó una serie de documentos en el área de ...</td>\n",
              "    </tr>\n",
              "    <tr>\n",
              "      <th>96</th>\n",
              "      <td>De 1991 a 1995 residió en Londres, Bosnia y Su...</td>\n",
              "      <td>Dee 1991 a 1995 reesidió een Londrees, Bosnia ...</td>\n",
              "    </tr>\n",
              "    <tr>\n",
              "      <th>97</th>\n",
              "      <td>El 29 de diciembre de 2013, él y otros dos per...</td>\n",
              "      <td>El 29 dee dicieembree dee 2013, él y otros dos...</td>\n",
              "    </tr>\n",
              "    <tr>\n",
              "      <th>98</th>\n",
              "      <td>El 23 de junio de 2014, Greste fue declarado c...</td>\n",
              "      <td>El 23 de junio de 2014, Greste fue declarado c...</td>\n",
              "    </tr>\n",
              "    <tr>\n",
              "      <th>99</th>\n",
              "      <td>Fue mejor conocido como el vocalista de la ban...</td>\n",
              "      <td>Fuee meejor conocido como eel vocalista dee la...</td>\n",
              "    </tr>\n",
              "  </tbody>\n",
              "</table>\n",
              "<p>100 rows × 2 columns</p>\n",
              "</div>"
            ],
            "text/plain": [
              "                                               buenos                                              malos\n",
              "0   Robin finalmente toma la decisión de dejar a l...  Robin finalmente toma la decisión de dejar a l...\n",
              "1   Después de un intento fallido de hacer que Kid...  Después de un intento faallido de haacer que K...\n",
              "2   Sin embargo, ella finalmente decide no hacerlo...  Sin eembaargo, eellaa finaalmeentee deecidee n...\n",
              "3   Algunos meses más tarde, entre la Crisis Final...  Algunos meses más taarde, entre laa Crisis Fin...\n",
              "4   A pesar de encontrarse con él brevemente en su...  A pesar de encontrarse con él brevemente en su...\n",
              "..                                                ...                                                ...\n",
              "95  Publicó una serie de documentos en el área de ...  Publicó una serie de documentos en el área de ...\n",
              "96  De 1991 a 1995 residió en Londres, Bosnia y Su...  Dee 1991 a 1995 reesidió een Londrees, Bosnia ...\n",
              "97  El 29 de diciembre de 2013, él y otros dos per...  El 29 dee dicieembree dee 2013, él y otros dos...\n",
              "98  El 23 de junio de 2014, Greste fue declarado c...  El 23 de junio de 2014, Greste fue declarado c...\n",
              "99  Fue mejor conocido como el vocalista de la ban...  Fuee meejor conocido como eel vocalista dee la...\n",
              "\n",
              "[100 rows x 2 columns]"
            ]
          },
          "metadata": {
            "tags": []
          },
          "execution_count": 17
        }
      ]
    },
    {
      "cell_type": "markdown",
      "metadata": {
        "id": "4mgBm03z4f0M"
      },
      "source": [
        "# 06. Validación de un registro en particular"
      ]
    },
    {
      "cell_type": "code",
      "metadata": {
        "colab": {
          "base_uri": "https://localhost:8080/"
        },
        "id": "6uzdbnjKLeDJ",
        "outputId": "de6b7fec-af15-452f-8748-22440d89f67e"
      },
      "source": [
        "indx_evaluar= 2\n",
        "print(df_salida.loc[indx_evaluar][0])\n",
        "print(df_salida.loc[indx_evaluar][1])"
      ],
      "execution_count": 16,
      "outputs": [
        {
          "output_type": "stream",
          "text": [
            "Sin embargo, ella finalmente decide no hacerlo, diciéndole a Eternidad que nunca le conceda dicha solicitud, incluso si ella fuera a rogarle.\n",
            "Sin eembaargo, eellaa finaalmeentee deecidee no haaceerlo, diciéndolee aa Eteernidaad quee nuncaa lee conceedaa dichaa solicitud, incluso si eellaa fueeraa aa rogaarlee.\n"
          ],
          "name": "stdout"
        }
      ]
    }
  ]
}