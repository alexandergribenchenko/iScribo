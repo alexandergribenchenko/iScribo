{
  "nbformat": 4,
  "nbformat_minor": 0,
  "metadata": {
    "colab": {
      "name": "iScribo_creador_xml.ipynb",
      "provenance": [],
      "collapsed_sections": [],
      "authorship_tag": "ABX9TyNe0u60gx+j4Ivt1Ybe3KwQ",
      "include_colab_link": true
    },
    "kernelspec": {
      "name": "python3",
      "display_name": "Python 3"
    },
    "language_info": {
      "name": "python"
    }
  },
  "cells": [
    {
      "cell_type": "markdown",
      "metadata": {
        "id": "view-in-github",
        "colab_type": "text"
      },
      "source": [
        "<a href=\"https://colab.research.google.com/github/alexandergribenchenko/iScribo/blob/main/iScribo_creador_xml.ipynb\" target=\"_parent\"><img src=\"https://colab.research.google.com/assets/colab-badge.svg\" alt=\"Open In Colab\"/></a>"
      ]
    },
    {
      "cell_type": "code",
      "metadata": {
        "id": "oGCFqLZSMZ12"
      },
      "source": [
        "import pandas as pd"
      ],
      "execution_count": 5,
      "outputs": []
    },
    {
      "cell_type": "code",
      "metadata": {
        "colab": {
          "base_uri": "https://localhost:8080/"
        },
        "id": "rGNJ94v1PG26",
        "outputId": "948cc4ce-2be7-44a7-a341-7859041e6116"
      },
      "source": [
        "from google.colab import drive\n",
        "drive.mount('/content/drive')"
      ],
      "execution_count": 4,
      "outputs": [
        {
          "output_type": "stream",
          "text": [
            "Mounted at /content/drive\n"
          ],
          "name": "stdout"
        }
      ]
    },
    {
      "cell_type": "code",
      "metadata": {
        "id": "4Amzf6cIPG0p"
      },
      "source": [
        "# path = '/content/drive/MyDrive/Colab Notebooks/Trascender_Global_Colab/P_01_iScribo/iScribo_Data/Modificador/patrones_xml.txt'\n",
        "path = '/content/drive/MyDrive/Colab Notebooks/Trascender_Global_Colab/P_01_iScribo/iScribo_Data/Modificador/patrones_xml_base.txt'\n",
        "path_excel = '/content/drive/MyDrive/Colab Notebooks/Trascender_Global_Colab/P_01_iScribo/iScribo_Data/Modificador/Redundancias_ok.xlsx'"
      ],
      "execution_count": 6,
      "outputs": []
    },
    {
      "cell_type": "code",
      "metadata": {
        "id": "9gHCQSVMTEgx",
        "colab": {
          "base_uri": "https://localhost:8080/",
          "height": 204
        },
        "outputId": "b0e245e2-0b01-408c-ec50-a485775c8ba3"
      },
      "source": [
        "matriz_reemplazos = pd.read_excel(path_excel, header=None, nrows=5)\n",
        "matriz_reemplazos"
      ],
      "execution_count": 7,
      "outputs": [
        {
          "output_type": "execute_result",
          "data": {
            "text/html": [
              "<div>\n",
              "<style scoped>\n",
              "    .dataframe tbody tr th:only-of-type {\n",
              "        vertical-align: middle;\n",
              "    }\n",
              "\n",
              "    .dataframe tbody tr th {\n",
              "        vertical-align: top;\n",
              "    }\n",
              "\n",
              "    .dataframe thead th {\n",
              "        text-align: right;\n",
              "    }\n",
              "</style>\n",
              "<table border=\"1\" class=\"dataframe\">\n",
              "  <thead>\n",
              "    <tr style=\"text-align: right;\">\n",
              "      <th></th>\n",
              "      <th>0</th>\n",
              "      <th>1</th>\n",
              "      <th>2</th>\n",
              "    </tr>\n",
              "  </thead>\n",
              "  <tbody>\n",
              "    <tr>\n",
              "      <th>0</th>\n",
              "      <td>abajo suscrito</td>\n",
              "      <td>suscrito</td>\n",
              "      <td>Redundancia</td>\n",
              "    </tr>\n",
              "    <tr>\n",
              "      <th>1</th>\n",
              "      <td>abajo suscrita</td>\n",
              "      <td>suscrita</td>\n",
              "      <td>Redundancia</td>\n",
              "    </tr>\n",
              "    <tr>\n",
              "      <th>2</th>\n",
              "      <td>abajo suscritos</td>\n",
              "      <td>suscritos</td>\n",
              "      <td>Redundancia</td>\n",
              "    </tr>\n",
              "    <tr>\n",
              "      <th>3</th>\n",
              "      <td>abajo suscritas</td>\n",
              "      <td>suscritas</td>\n",
              "      <td>Redundancia</td>\n",
              "    </tr>\n",
              "    <tr>\n",
              "      <th>4</th>\n",
              "      <td>acalorado de calor</td>\n",
              "      <td>acalorado</td>\n",
              "      <td>Redundancia</td>\n",
              "    </tr>\n",
              "  </tbody>\n",
              "</table>\n",
              "</div>"
            ],
            "text/plain": [
              "                    0          1            2\n",
              "0      abajo suscrito   suscrito  Redundancia\n",
              "1      abajo suscrita   suscrita  Redundancia\n",
              "2     abajo suscritos  suscritos  Redundancia\n",
              "3     abajo suscritas  suscritas  Redundancia\n",
              "4  acalorado de calor  acalorado  Redundancia"
            ]
          },
          "metadata": {
            "tags": []
          },
          "execution_count": 7
        }
      ]
    },
    {
      "cell_type": "code",
      "metadata": {
        "id": "0TqWaaN0PGyX"
      },
      "source": [
        "#path = r'GPT3_Categoria_0{}.txt'.format(a)\n",
        "handler = open(path)\n",
        "contenido = handler.read()"
      ],
      "execution_count": 8,
      "outputs": []
    },
    {
      "cell_type": "code",
      "metadata": {
        "colab": {
          "base_uri": "https://localhost:8080/"
        },
        "id": "HHNsq0ElPGtt",
        "outputId": "4a192c1e-a36c-4c4d-ccc7-8e85131df242"
      },
      "source": [
        "print(contenido)"
      ],
      "execution_count": 9,
      "outputs": [
        {
          "output_type": "stream",
          "text": [
            "<!--comment_replace-->\n",
            "<rule id=\"id_replace\" name=\"name_replace\">\n",
            " <pattern>\n",
            "  <token>token_replace</token>\n",
            " </pattern>\n",
            " <message>message_replace</message>\n",
            " <suggestion>sugestion_replace</suggestion>\n",
            "</rule>\n"
          ],
          "name": "stdout"
        }
      ]
    },
    {
      "cell_type": "code",
      "metadata": {
        "id": "bLpJvShSUMpo",
        "colab": {
          "base_uri": "https://localhost:8080/",
          "height": 52
        },
        "outputId": "c6ca4588-206f-4f90-8304-0ed4f28b9ec9"
      },
      "source": [
        "contenido"
      ],
      "execution_count": 10,
      "outputs": [
        {
          "output_type": "execute_result",
          "data": {
            "application/vnd.google.colaboratory.intrinsic+json": {
              "type": "string"
            },
            "text/plain": [
              "'<!--comment_replace-->\\n<rule id=\"id_replace\" name=\"name_replace\">\\n <pattern>\\n  <token>token_replace</token>\\n </pattern>\\n <message>message_replace</message>\\n <suggestion>sugestion_replace</suggestion>\\n</rule>'"
            ]
          },
          "metadata": {
            "tags": []
          },
          "execution_count": 10
        }
      ]
    },
    {
      "cell_type": "code",
      "metadata": {
        "colab": {
          "base_uri": "https://localhost:8080/",
          "height": 204
        },
        "id": "UFAhBgscVqig",
        "outputId": "66c060a8-120f-4a34-cd78-8326b9d5c442"
      },
      "source": [
        "matriz_reemplazos"
      ],
      "execution_count": 11,
      "outputs": [
        {
          "output_type": "execute_result",
          "data": {
            "text/html": [
              "<div>\n",
              "<style scoped>\n",
              "    .dataframe tbody tr th:only-of-type {\n",
              "        vertical-align: middle;\n",
              "    }\n",
              "\n",
              "    .dataframe tbody tr th {\n",
              "        vertical-align: top;\n",
              "    }\n",
              "\n",
              "    .dataframe thead th {\n",
              "        text-align: right;\n",
              "    }\n",
              "</style>\n",
              "<table border=\"1\" class=\"dataframe\">\n",
              "  <thead>\n",
              "    <tr style=\"text-align: right;\">\n",
              "      <th></th>\n",
              "      <th>0</th>\n",
              "      <th>1</th>\n",
              "      <th>2</th>\n",
              "    </tr>\n",
              "  </thead>\n",
              "  <tbody>\n",
              "    <tr>\n",
              "      <th>0</th>\n",
              "      <td>abajo suscrito</td>\n",
              "      <td>suscrito</td>\n",
              "      <td>Redundancia</td>\n",
              "    </tr>\n",
              "    <tr>\n",
              "      <th>1</th>\n",
              "      <td>abajo suscrita</td>\n",
              "      <td>suscrita</td>\n",
              "      <td>Redundancia</td>\n",
              "    </tr>\n",
              "    <tr>\n",
              "      <th>2</th>\n",
              "      <td>abajo suscritos</td>\n",
              "      <td>suscritos</td>\n",
              "      <td>Redundancia</td>\n",
              "    </tr>\n",
              "    <tr>\n",
              "      <th>3</th>\n",
              "      <td>abajo suscritas</td>\n",
              "      <td>suscritas</td>\n",
              "      <td>Redundancia</td>\n",
              "    </tr>\n",
              "    <tr>\n",
              "      <th>4</th>\n",
              "      <td>acalorado de calor</td>\n",
              "      <td>acalorado</td>\n",
              "      <td>Redundancia</td>\n",
              "    </tr>\n",
              "  </tbody>\n",
              "</table>\n",
              "</div>"
            ],
            "text/plain": [
              "                    0          1            2\n",
              "0      abajo suscrito   suscrito  Redundancia\n",
              "1      abajo suscrita   suscrita  Redundancia\n",
              "2     abajo suscritos  suscritos  Redundancia\n",
              "3     abajo suscritas  suscritas  Redundancia\n",
              "4  acalorado de calor  acalorado  Redundancia"
            ]
          },
          "metadata": {
            "tags": []
          },
          "execution_count": 11
        }
      ]
    },
    {
      "cell_type": "code",
      "metadata": {
        "colab": {
          "base_uri": "https://localhost:8080/"
        },
        "id": "4-hv_L2JWef2",
        "outputId": "ebbffab6-b037-4872-8e80-088806f1b7e1"
      },
      "source": [
        "print(contenido)"
      ],
      "execution_count": 16,
      "outputs": [
        {
          "output_type": "stream",
          "text": [
            "<!--comment_replace-->\n",
            "<rule id=\"id_replace\" name=\"name_replace\">\n",
            " <pattern>\n",
            "  <token>token_replace</token>\n",
            " </pattern>\n",
            " <message>message_replace</message>\n",
            " <suggestion>sugestion_replace</suggestion>\n",
            "</rule>\n"
          ],
          "name": "stdout"
        }
      ]
    },
    {
      "cell_type": "code",
      "metadata": {
        "id": "G_atdnTnXAeK"
      },
      "source": [
        "comment_replace = 'comment'\n",
        "id_replace = matriz_reemplazos[0][0] + '/' + matriz_reemplazos[1][0]\n",
        "name_replace = id_replace\n",
        "token_replace = matriz_reemplazos[0][0]\n",
        "message_replace = matriz_reemplazos[2][0]\n",
        "sugestion_replace = matriz_reemplazos[1][0]"
      ],
      "execution_count": 13,
      "outputs": []
    },
    {
      "cell_type": "code",
      "metadata": {
        "id": "8-M31nORYB0q"
      },
      "source": [
        "contenido_temp = contenido.replace(\"comment_replace\", comment_replace)\n",
        "contenido_temp = contenido_temp.replace(\"id_replace\", id_replace)\n",
        "contenido_temp = contenido_temp.replace(\"name_replace\", name_replace)\n",
        "contenido_temp = contenido_temp.replace(\"token_replace\", token_replace)\n",
        "contenido_temp = contenido_temp.replace(\"message_replace\", message_replace)\n",
        "contenido_temp = contenido_temp.replace(\"sugestion_replace\", sugestion_replace)"
      ],
      "execution_count": 14,
      "outputs": []
    },
    {
      "cell_type": "code",
      "metadata": {
        "colab": {
          "base_uri": "https://localhost:8080/"
        },
        "id": "u8SzoaVBOr9C",
        "outputId": "37cbdbcc-b9c2-4276-cbac-1703fa4fe91c"
      },
      "source": [
        "print(contenido_temp)"
      ],
      "execution_count": 15,
      "outputs": [
        {
          "output_type": "stream",
          "text": [
            "<!--comment-->\n",
            "<rule id=\"abajo suscrito/suscrito\" name=\"abajo suscrito/suscrito\">\n",
            " <pattern>\n",
            "  <token>abajo suscrito</token>\n",
            " </pattern>\n",
            " <message>Redundancia</message>\n",
            " <suggestion>suscrito</suggestion>\n",
            "</rule>\n"
          ],
          "name": "stdout"
        }
      ]
    },
    {
      "cell_type": "code",
      "metadata": {
        "id": "7gYz8Qll4m75"
      },
      "source": [
        ""
      ],
      "execution_count": null,
      "outputs": []
    },
    {
      "cell_type": "code",
      "metadata": {
        "id": "tuF2QFGV4my2"
      },
      "source": [
        ""
      ],
      "execution_count": null,
      "outputs": []
    },
    {
      "cell_type": "code",
      "metadata": {
        "id": "29p-D4Ep4Vnu",
        "outputId": "9a5b7b57-d108-4d05-d8ce-5ee5cf0148b0",
        "colab": {
          "base_uri": "https://localhost:8080/",
          "height": 204
        }
      },
      "source": [
        "matriz_reemplazos"
      ],
      "execution_count": 60,
      "outputs": [
        {
          "output_type": "execute_result",
          "data": {
            "text/html": [
              "<div>\n",
              "<style scoped>\n",
              "    .dataframe tbody tr th:only-of-type {\n",
              "        vertical-align: middle;\n",
              "    }\n",
              "\n",
              "    .dataframe tbody tr th {\n",
              "        vertical-align: top;\n",
              "    }\n",
              "\n",
              "    .dataframe thead th {\n",
              "        text-align: right;\n",
              "    }\n",
              "</style>\n",
              "<table border=\"1\" class=\"dataframe\">\n",
              "  <thead>\n",
              "    <tr style=\"text-align: right;\">\n",
              "      <th></th>\n",
              "      <th>0</th>\n",
              "      <th>1</th>\n",
              "      <th>2</th>\n",
              "    </tr>\n",
              "  </thead>\n",
              "  <tbody>\n",
              "    <tr>\n",
              "      <th>0</th>\n",
              "      <td>abajo suscrito</td>\n",
              "      <td>suscrito</td>\n",
              "      <td>Redundancia</td>\n",
              "    </tr>\n",
              "    <tr>\n",
              "      <th>1</th>\n",
              "      <td>abajo suscrita</td>\n",
              "      <td>suscrita</td>\n",
              "      <td>Redundancia</td>\n",
              "    </tr>\n",
              "    <tr>\n",
              "      <th>2</th>\n",
              "      <td>abajo suscritos</td>\n",
              "      <td>suscritos</td>\n",
              "      <td>Redundancia</td>\n",
              "    </tr>\n",
              "    <tr>\n",
              "      <th>3</th>\n",
              "      <td>abajo suscritas</td>\n",
              "      <td>suscritas</td>\n",
              "      <td>Redundancia</td>\n",
              "    </tr>\n",
              "    <tr>\n",
              "      <th>4</th>\n",
              "      <td>acalorado de calor</td>\n",
              "      <td>acalorado</td>\n",
              "      <td>Redundancia</td>\n",
              "    </tr>\n",
              "  </tbody>\n",
              "</table>\n",
              "</div>"
            ],
            "text/plain": [
              "                    0          1            2\n",
              "0      abajo suscrito   suscrito  Redundancia\n",
              "1      abajo suscrita   suscrita  Redundancia\n",
              "2     abajo suscritos  suscritos  Redundancia\n",
              "3     abajo suscritas  suscritas  Redundancia\n",
              "4  acalorado de calor  acalorado  Redundancia"
            ]
          },
          "metadata": {
            "tags": []
          },
          "execution_count": 60
        }
      ]
    },
    {
      "cell_type": "code",
      "metadata": {
        "id": "Rrhw9vt14VeJ",
        "outputId": "ce07d724-c1d4-4919-a93b-1f00dccb8352",
        "colab": {
          "base_uri": "https://localhost:8080/"
        }
      },
      "source": [
        "print(contenido)"
      ],
      "execution_count": 61,
      "outputs": [
        {
          "output_type": "stream",
          "text": [
            "<!--comment_replace-->\n",
            "<rule id=\"id_replace\" name=\"name_replace\">\n",
            " <pattern>\n",
            "  <token>token_replace</token>\n",
            " </pattern>\n",
            " <message>message_replace</message>\n",
            " <suggestion>sugestion_replace</suggestion>\n",
            "</rule>\n"
          ],
          "name": "stdout"
        }
      ]
    },
    {
      "cell_type": "code",
      "metadata": {
        "id": "vsV3HcXB4jCc"
      },
      "source": [
        "comment_replace = 'comment'\n",
        "id_replace = matriz_reemplazos[0][0] + '/' + matriz_reemplazos[1][0]\n",
        "name_replace = id_replace\n",
        "# token_replace = matriz_reemplazos[0][0]\n",
        "message_replace = matriz_reemplazos[2][0]\n",
        "sugestion_replace = matriz_reemplazos[1][0]"
      ],
      "execution_count": 62,
      "outputs": []
    },
    {
      "cell_type": "code",
      "metadata": {
        "id": "8eUjOYSm4v6K"
      },
      "source": [
        "token_replace = matriz_reemplazos[0][0]"
      ],
      "execution_count": 63,
      "outputs": []
    },
    {
      "cell_type": "code",
      "metadata": {
        "id": "pdu9HTMk5B6X",
        "outputId": "57be24b4-b99d-4f95-f37f-a3ff99dc5409",
        "colab": {
          "base_uri": "https://localhost:8080/",
          "height": 35
        }
      },
      "source": [
        "eee = matriz_reemplazos[0][0]\n",
        "eee"
      ],
      "execution_count": 76,
      "outputs": [
        {
          "output_type": "execute_result",
          "data": {
            "application/vnd.google.colaboratory.intrinsic+json": {
              "type": "string"
            },
            "text/plain": [
              "'abajo suscrito'"
            ]
          },
          "metadata": {
            "tags": []
          },
          "execution_count": 76
        }
      ]
    },
    {
      "cell_type": "code",
      "metadata": {
        "id": "brvDCu3sGoet"
      },
      "source": [
        "eee='mico'"
      ],
      "execution_count": 77,
      "outputs": []
    },
    {
      "cell_type": "code",
      "metadata": {
        "id": "PRJ-27-s5IYW"
      },
      "source": [
        "jjj=''\n",
        "for x in eee.split():\n",
        "  jjj+='<token>'+x+'</token>'+'\\n'+'  '\n",
        "\n"
      ],
      "execution_count": 78,
      "outputs": []
    },
    {
      "cell_type": "code",
      "metadata": {
        "id": "uvuF5wPU75xA",
        "outputId": "d3cc84a1-b430-4e98-f804-b29dcff9c412",
        "colab": {
          "base_uri": "https://localhost:8080/",
          "height": 35
        }
      },
      "source": [
        "jjj"
      ],
      "execution_count": 79,
      "outputs": [
        {
          "output_type": "execute_result",
          "data": {
            "application/vnd.google.colaboratory.intrinsic+json": {
              "type": "string"
            },
            "text/plain": [
              "'<token>mico</token>\\n  '"
            ]
          },
          "metadata": {
            "tags": []
          },
          "execution_count": 79
        }
      ]
    },
    {
      "cell_type": "code",
      "metadata": {
        "id": "Q9SffpBq9VVl",
        "outputId": "b31d0b21-836b-4127-8bc4-9b3df56feeb7",
        "colab": {
          "base_uri": "https://localhost:8080/",
          "height": 35
        }
      },
      "source": [
        "perro = jjj[:-3]\n",
        "perro"
      ],
      "execution_count": 80,
      "outputs": [
        {
          "output_type": "execute_result",
          "data": {
            "application/vnd.google.colaboratory.intrinsic+json": {
              "type": "string"
            },
            "text/plain": [
              "'<token>mico</token>'"
            ]
          },
          "metadata": {
            "tags": []
          },
          "execution_count": 80
        }
      ]
    },
    {
      "cell_type": "code",
      "metadata": {
        "id": "Udwt23Yg5ITm"
      },
      "source": [
        ""
      ],
      "execution_count": null,
      "outputs": []
    },
    {
      "cell_type": "code",
      "metadata": {
        "id": "fVovJkJA5IRK"
      },
      "source": [
        ""
      ],
      "execution_count": null,
      "outputs": []
    },
    {
      "cell_type": "code",
      "metadata": {
        "id": "Se5IR6w14jCd"
      },
      "source": [
        "contenido_temp = contenido.replace(\"comment_replace\", comment_replace)\n",
        "contenido_temp = contenido_temp.replace(\"id_replace\", id_replace)\n",
        "contenido_temp = contenido_temp.replace(\"name_replace\", name_replace)\n",
        "contenido_temp = contenido_temp.replace(\"<token>token_replace</token>\", perro)\n",
        "contenido_temp = contenido_temp.replace(\"message_replace\", message_replace)\n",
        "contenido_temp = contenido_temp.replace(\"sugestion_replace\", sugestion_replace)"
      ],
      "execution_count": 81,
      "outputs": []
    },
    {
      "cell_type": "code",
      "metadata": {
        "colab": {
          "base_uri": "https://localhost:8080/"
        },
        "id": "lFmt7Vq34jCd",
        "outputId": "a2ad0649-abce-493c-c434-f09616b568be"
      },
      "source": [
        "print(contenido_temp)"
      ],
      "execution_count": 82,
      "outputs": [
        {
          "output_type": "stream",
          "text": [
            "<!--comment-->\n",
            "<rule id=\"abajo suscrito/suscrito\" name=\"abajo suscrito/suscrito\">\n",
            " <pattern>\n",
            "  <token>mico</token>\n",
            " </pattern>\n",
            " <message>Redundancia</message>\n",
            " <suggestion>suscrito</suggestion>\n",
            "</rule>\n"
          ],
          "name": "stdout"
        }
      ]
    },
    {
      "cell_type": "code",
      "metadata": {
        "id": "054Ar73Z4VbX",
        "outputId": "0a85b3be-67d8-41b2-e9a4-01056c4521c0",
        "colab": {
          "base_uri": "https://localhost:8080/",
          "height": 69
        }
      },
      "source": [
        "contenido_temp"
      ],
      "execution_count": 40,
      "outputs": [
        {
          "output_type": "execute_result",
          "data": {
            "application/vnd.google.colaboratory.intrinsic+json": {
              "type": "string"
            },
            "text/plain": [
              "'<!--comment-->\\n<rule id=\"abajo suscrito/suscrito\" name=\"abajo suscrito/suscrito\">\\n <pattern>\\n  <token><token>abajo</token></token>/n  <token>suscrito</token></token></token>\\n </pattern>\\n <message>Redundancia</message>\\n <suggestion>suscrito</suggestion>\\n</rule>'"
            ]
          },
          "metadata": {
            "tags": []
          },
          "execution_count": 40
        }
      ]
    },
    {
      "cell_type": "code",
      "metadata": {
        "id": "kA40Z7hq4VZO"
      },
      "source": [
        ""
      ],
      "execution_count": null,
      "outputs": []
    },
    {
      "cell_type": "code",
      "metadata": {
        "id": "udihNVmz4VW2"
      },
      "source": [
        ""
      ],
      "execution_count": null,
      "outputs": []
    },
    {
      "cell_type": "code",
      "metadata": {
        "id": "hFwv6kbO4VVM"
      },
      "source": [
        ""
      ],
      "execution_count": null,
      "outputs": []
    },
    {
      "cell_type": "code",
      "metadata": {
        "id": "efEFzYov4VSl"
      },
      "source": [
        ""
      ],
      "execution_count": null,
      "outputs": []
    },
    {
      "cell_type": "code",
      "metadata": {
        "id": "segFsJbo4VQc"
      },
      "source": [
        ""
      ],
      "execution_count": null,
      "outputs": []
    },
    {
      "cell_type": "code",
      "metadata": {
        "id": "BjIF3UuN4VOc"
      },
      "source": [
        ""
      ],
      "execution_count": null,
      "outputs": []
    },
    {
      "cell_type": "code",
      "metadata": {
        "id": "GyI_6p6G4VMC"
      },
      "source": [
        ""
      ],
      "execution_count": null,
      "outputs": []
    },
    {
      "cell_type": "code",
      "metadata": {
        "id": "Yd9H47N94VJN"
      },
      "source": [
        ""
      ],
      "execution_count": null,
      "outputs": []
    },
    {
      "cell_type": "code",
      "metadata": {
        "colab": {
          "base_uri": "https://localhost:8080/",
          "height": 204
        },
        "id": "qGQy-hjlaWO0",
        "outputId": "9c6a4574-bd1a-4810-9499-80bbc6bc0d3f"
      },
      "source": [
        "matriz_reemplazos"
      ],
      "execution_count": null,
      "outputs": [
        {
          "output_type": "execute_result",
          "data": {
            "text/html": [
              "<div>\n",
              "<style scoped>\n",
              "    .dataframe tbody tr th:only-of-type {\n",
              "        vertical-align: middle;\n",
              "    }\n",
              "\n",
              "    .dataframe tbody tr th {\n",
              "        vertical-align: top;\n",
              "    }\n",
              "\n",
              "    .dataframe thead th {\n",
              "        text-align: right;\n",
              "    }\n",
              "</style>\n",
              "<table border=\"1\" class=\"dataframe\">\n",
              "  <thead>\n",
              "    <tr style=\"text-align: right;\">\n",
              "      <th></th>\n",
              "      <th>0</th>\n",
              "      <th>1</th>\n",
              "      <th>2</th>\n",
              "    </tr>\n",
              "  </thead>\n",
              "  <tbody>\n",
              "    <tr>\n",
              "      <th>0</th>\n",
              "      <td>abajo suscrito</td>\n",
              "      <td>suscrito</td>\n",
              "      <td>Redundancia</td>\n",
              "    </tr>\n",
              "    <tr>\n",
              "      <th>1</th>\n",
              "      <td>abajo suscrita</td>\n",
              "      <td>suscrita</td>\n",
              "      <td>Redundancia</td>\n",
              "    </tr>\n",
              "    <tr>\n",
              "      <th>2</th>\n",
              "      <td>abajo suscritos</td>\n",
              "      <td>suscritos</td>\n",
              "      <td>Redundancia</td>\n",
              "    </tr>\n",
              "    <tr>\n",
              "      <th>3</th>\n",
              "      <td>abajo suscritas</td>\n",
              "      <td>suscritas</td>\n",
              "      <td>Redundancia</td>\n",
              "    </tr>\n",
              "    <tr>\n",
              "      <th>4</th>\n",
              "      <td>acalorado de calor</td>\n",
              "      <td>acalorado</td>\n",
              "      <td>Redundancia</td>\n",
              "    </tr>\n",
              "  </tbody>\n",
              "</table>\n",
              "</div>"
            ],
            "text/plain": [
              "                    0          1            2\n",
              "0      abajo suscrito   suscrito  Redundancia\n",
              "1      abajo suscrita   suscrita  Redundancia\n",
              "2     abajo suscritos  suscritos  Redundancia\n",
              "3     abajo suscritas  suscritas  Redundancia\n",
              "4  acalorado de calor  acalorado  Redundancia"
            ]
          },
          "metadata": {
            "tags": []
          },
          "execution_count": 64
        }
      ]
    },
    {
      "cell_type": "code",
      "metadata": {
        "colab": {
          "base_uri": "https://localhost:8080/"
        },
        "id": "2ozhc4a8aWMQ",
        "outputId": "a192cc65-707a-404b-9a67-0b5fb30da78f"
      },
      "source": [
        "len(matriz_reemplazos)"
      ],
      "execution_count": null,
      "outputs": [
        {
          "output_type": "execute_result",
          "data": {
            "text/plain": [
              "5"
            ]
          },
          "metadata": {
            "tags": []
          },
          "execution_count": 68
        }
      ]
    },
    {
      "cell_type": "code",
      "metadata": {
        "id": "5x6FtJ1daVmg"
      },
      "source": [
        ""
      ],
      "execution_count": null,
      "outputs": []
    },
    {
      "cell_type": "code",
      "metadata": {
        "id": "zafnAcRYOr_m"
      },
      "source": [
        "def compilador_reemplazos(matriz_reemplazos, contenido):\n",
        "  salida_temp=''\n",
        "  for index in range(len(matriz_reemplazos)):\n",
        "\n",
        "    contenido\n",
        "    \n",
        "    comment_replace = 'comment'\n",
        "    id_replace = matriz_reemplazos[0][index] + '/' + matriz_reemplazos[1][index]\n",
        "    name_replace = id_replace\n",
        "    token_replace = matriz_reemplazos[0][index]\n",
        "    message_replace = matriz_reemplazos[2][index]\n",
        "    sugestion_replace = matriz_reemplazos[1][index]\n",
        "\n",
        "    contenido_temp = contenido.replace(\"comment_replace\", comment_replace)\n",
        "    contenido_temp = contenido_temp.replace(\"id_replace\", id_replace)\n",
        "    contenido_temp = contenido_temp.replace(\"name_replace\", name_replace)\n",
        "    contenido_temp = contenido_temp.replace(\"token_replace\", token_replace)\n",
        "    contenido_temp = contenido_temp.replace(\"message_replace\", message_replace)\n",
        "    contenido_temp = contenido_temp.replace(\"sugestion_replace\", sugestion_replace)\n",
        "\n",
        "    salida_temp+=contenido_temp+'\\n\\n'\n",
        "\n",
        "  return salida_temp"
      ],
      "execution_count": null,
      "outputs": []
    },
    {
      "cell_type": "code",
      "metadata": {
        "colab": {
          "base_uri": "https://localhost:8080/",
          "height": 103
        },
        "id": "75YPoTgZcyw9",
        "outputId": "952668e8-9c42-4fd2-8525-e5649cb15849"
      },
      "source": [
        "salida = compilador_reemplazos(matriz_reemplazos, contenido)\n",
        "salida"
      ],
      "execution_count": null,
      "outputs": [
        {
          "output_type": "execute_result",
          "data": {
            "application/vnd.google.colaboratory.intrinsic+json": {
              "type": "string"
            },
            "text/plain": [
              "'<!--comment-->\\n<rule id=\"abajo suscrito/suscrito\" name=\"abajo suscrito/suscrito\">\\n <pattern>\\n  <token>abajo suscrito</token>\\n </pattern>\\n <message>Redundancia</message>\\n <suggestion>suscrito</suggestion>\\n</rule>\\n\\n<!--comment-->\\n<rule id=\"abajo suscrita/suscrita\" name=\"abajo suscrita/suscrita\">\\n <pattern>\\n  <token>abajo suscrita</token>\\n </pattern>\\n <message>Redundancia</message>\\n <suggestion>suscrita</suggestion>\\n</rule>\\n\\n<!--comment-->\\n<rule id=\"abajo suscritos/suscritos\" name=\"abajo suscritos/suscritos\">\\n <pattern>\\n  <token>abajo suscritos</token>\\n </pattern>\\n <message>Redundancia</message>\\n <suggestion>suscritos</suggestion>\\n</rule>\\n\\n<!--comment-->\\n<rule id=\"abajo suscritas/suscritas\" name=\"abajo suscritas/suscritas\">\\n <pattern>\\n  <token>abajo suscritas</token>\\n </pattern>\\n <message>Redundancia</message>\\n <suggestion>suscritas</suggestion>\\n</rule>\\n\\n<!--comment-->\\n<rule id=\"acalorado de calor/acalorado\" name=\"acalorado de calor/acalorado\">\\n <pattern>\\n  <token>acalorado de calor</token>\\n </pattern>\\n <message>Redundancia</message>\\n <suggestion>acalorado</suggestion>\\n</rule>\\n\\n'"
            ]
          },
          "metadata": {
            "tags": []
          },
          "execution_count": 79
        }
      ]
    },
    {
      "cell_type": "code",
      "metadata": {
        "colab": {
          "base_uri": "https://localhost:8080/"
        },
        "id": "nWLAlpZDcyuI",
        "outputId": "1a7c7869-8bf0-4640-d3ee-47afdddac229"
      },
      "source": [
        "print(salida)"
      ],
      "execution_count": null,
      "outputs": [
        {
          "output_type": "stream",
          "text": [
            "<!--comment-->\n",
            "<rule id=\"abajo suscrito/suscrito\" name=\"abajo suscrito/suscrito\">\n",
            " <pattern>\n",
            "  <token>abajo suscrito</token>\n",
            " </pattern>\n",
            " <message>Redundancia</message>\n",
            " <suggestion>suscrito</suggestion>\n",
            "</rule>\n",
            "\n",
            "<!--comment-->\n",
            "<rule id=\"abajo suscrita/suscrita\" name=\"abajo suscrita/suscrita\">\n",
            " <pattern>\n",
            "  <token>abajo suscrita</token>\n",
            " </pattern>\n",
            " <message>Redundancia</message>\n",
            " <suggestion>suscrita</suggestion>\n",
            "</rule>\n",
            "\n",
            "<!--comment-->\n",
            "<rule id=\"abajo suscritos/suscritos\" name=\"abajo suscritos/suscritos\">\n",
            " <pattern>\n",
            "  <token>abajo suscritos</token>\n",
            " </pattern>\n",
            " <message>Redundancia</message>\n",
            " <suggestion>suscritos</suggestion>\n",
            "</rule>\n",
            "\n",
            "<!--comment-->\n",
            "<rule id=\"abajo suscritas/suscritas\" name=\"abajo suscritas/suscritas\">\n",
            " <pattern>\n",
            "  <token>abajo suscritas</token>\n",
            " </pattern>\n",
            " <message>Redundancia</message>\n",
            " <suggestion>suscritas</suggestion>\n",
            "</rule>\n",
            "\n",
            "<!--comment-->\n",
            "<rule id=\"acalorado de calor/acalorado\" name=\"acalorado de calor/acalorado\">\n",
            " <pattern>\n",
            "  <token>acalorado de calor</token>\n",
            " </pattern>\n",
            " <message>Redundancia</message>\n",
            " <suggestion>acalorado</suggestion>\n",
            "</rule>\n",
            "\n",
            "\n"
          ],
          "name": "stdout"
        }
      ]
    },
    {
      "cell_type": "code",
      "metadata": {
        "id": "--_qHkPxcyrs"
      },
      "source": [
        "text_file = open(\"/content/drive/MyDrive/Colab Notebooks/Trascender_Global_Colab/P_01_iScribo/iScribo_Data/Modificador/Output.txt\", \"w\")\n",
        "text_file.write(salida)\n",
        "text_file.close()"
      ],
      "execution_count": null,
      "outputs": []
    },
    {
      "cell_type": "code",
      "metadata": {
        "id": "VVg_h_QkOsBs"
      },
      "source": [
        ""
      ],
      "execution_count": null,
      "outputs": []
    },
    {
      "cell_type": "code",
      "metadata": {
        "id": "zbc97QEoOsGY",
        "outputId": "101c8396-3cd9-43a3-ebc1-55ef6233aff1",
        "colab": {
          "base_uri": "https://localhost:8080/"
        }
      },
      "source": [
        "txt = \"welcome, to the jungle!\"\n",
        "\n",
        "x = txt.split()\n",
        "\n",
        "print(x)"
      ],
      "execution_count": 3,
      "outputs": [
        {
          "output_type": "stream",
          "text": [
            "['welcome,', 'to', 'the', 'jungle!']\n"
          ],
          "name": "stdout"
        }
      ]
    },
    {
      "cell_type": "code",
      "metadata": {
        "id": "WSFkpINFOsIN"
      },
      "source": [
        ""
      ],
      "execution_count": null,
      "outputs": []
    },
    {
      "cell_type": "code",
      "metadata": {
        "id": "e4yqAmrv1Ful"
      },
      "source": [
        ""
      ],
      "execution_count": null,
      "outputs": []
    },
    {
      "cell_type": "code",
      "metadata": {
        "id": "dTCLfOLI1FsE"
      },
      "source": [
        ""
      ],
      "execution_count": null,
      "outputs": []
    },
    {
      "cell_type": "code",
      "metadata": {
        "id": "vf8Q2QD01Fp4"
      },
      "source": [
        ""
      ],
      "execution_count": null,
      "outputs": []
    },
    {
      "cell_type": "code",
      "metadata": {
        "id": "__lKg8Ky1Fnf"
      },
      "source": [
        ""
      ],
      "execution_count": null,
      "outputs": []
    },
    {
      "cell_type": "code",
      "metadata": {
        "id": "1rBAiFXi1FlJ"
      },
      "source": [
        ""
      ],
      "execution_count": null,
      "outputs": []
    },
    {
      "cell_type": "code",
      "metadata": {
        "id": "gFYk-_Ia1FjB"
      },
      "source": [
        ""
      ],
      "execution_count": null,
      "outputs": []
    },
    {
      "cell_type": "code",
      "metadata": {
        "id": "atE3klHM1Fgf"
      },
      "source": [
        ""
      ],
      "execution_count": null,
      "outputs": []
    },
    {
      "cell_type": "code",
      "metadata": {
        "id": "_z05oEhyOsKe"
      },
      "source": [
        ""
      ],
      "execution_count": null,
      "outputs": []
    },
    {
      "cell_type": "code",
      "metadata": {
        "id": "N7EP2DhbOsQ3"
      },
      "source": [
        ""
      ],
      "execution_count": null,
      "outputs": []
    },
    {
      "cell_type": "code",
      "metadata": {
        "id": "kqFqerUTOsTa"
      },
      "source": [
        ""
      ],
      "execution_count": null,
      "outputs": []
    }
  ]
}