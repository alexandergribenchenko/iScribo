{
  "nbformat": 4,
  "nbformat_minor": 0,
  "metadata": {
    "colab": {
      "name": "iScribo_creador_xml.ipynb",
      "provenance": [],
      "collapsed_sections": [],
      "authorship_tag": "ABX9TyMVDsOSgjcx0q0q/BoBI9wM",
      "include_colab_link": true
    },
    "kernelspec": {
      "name": "python3",
      "display_name": "Python 3"
    },
    "language_info": {
      "name": "python"
    }
  },
  "cells": [
    {
      "cell_type": "markdown",
      "metadata": {
        "id": "view-in-github",
        "colab_type": "text"
      },
      "source": [
        "<a href=\"https://colab.research.google.com/github/alexandergribenchenko/iScribo/blob/main/iScribo_creador_xml.ipynb\" target=\"_parent\"><img src=\"https://colab.research.google.com/assets/colab-badge.svg\" alt=\"Open In Colab\"/></a>"
      ]
    },
    {
      "cell_type": "code",
      "metadata": {
        "id": "oGCFqLZSMZ12"
      },
      "source": [
        "import pandas as pd"
      ],
      "execution_count": null,
      "outputs": []
    },
    {
      "cell_type": "code",
      "metadata": {
        "colab": {
          "base_uri": "https://localhost:8080/"
        },
        "id": "rGNJ94v1PG26",
        "outputId": "0b3d4060-b5bc-4b6f-f1d1-f7baf56a4812"
      },
      "source": [
        "from google.colab import drive\n",
        "drive.mount('/content/drive')"
      ],
      "execution_count": null,
      "outputs": [
        {
          "output_type": "stream",
          "text": [
            "Mounted at /content/drive\n"
          ],
          "name": "stdout"
        }
      ]
    },
    {
      "cell_type": "code",
      "metadata": {
        "id": "4Amzf6cIPG0p"
      },
      "source": [
        "# path = '/content/drive/MyDrive/Colab Notebooks/Trascender_Global_Colab/P_01_iScribo/iScribo_Data/Modificador/patrones_xml.txt'\n",
        "path = '/content/drive/MyDrive/Colab Notebooks/Trascender_Global_Colab/P_01_iScribo/iScribo_Data/Modificador/patrones_xml_base.txt'\n",
        "path_excel = '/content/drive/MyDrive/Colab Notebooks/Trascender_Global_Colab/P_01_iScribo/iScribo_Data/Modificador/Redundancias_ok.xlsx'"
      ],
      "execution_count": null,
      "outputs": []
    },
    {
      "cell_type": "code",
      "metadata": {
        "id": "9gHCQSVMTEgx",
        "colab": {
          "base_uri": "https://localhost:8080/",
          "height": 204
        },
        "outputId": "6fa5b3c1-685f-425d-d001-b3e0485cd6a4"
      },
      "source": [
        "matriz_reemplazos = pd.read_excel(path_excel, header=None, nrows=5)\n",
        "matriz_reemplazos"
      ],
      "execution_count": null,
      "outputs": [
        {
          "output_type": "execute_result",
          "data": {
            "text/html": [
              "<div>\n",
              "<style scoped>\n",
              "    .dataframe tbody tr th:only-of-type {\n",
              "        vertical-align: middle;\n",
              "    }\n",
              "\n",
              "    .dataframe tbody tr th {\n",
              "        vertical-align: top;\n",
              "    }\n",
              "\n",
              "    .dataframe thead th {\n",
              "        text-align: right;\n",
              "    }\n",
              "</style>\n",
              "<table border=\"1\" class=\"dataframe\">\n",
              "  <thead>\n",
              "    <tr style=\"text-align: right;\">\n",
              "      <th></th>\n",
              "      <th>0</th>\n",
              "      <th>1</th>\n",
              "      <th>2</th>\n",
              "    </tr>\n",
              "  </thead>\n",
              "  <tbody>\n",
              "    <tr>\n",
              "      <th>0</th>\n",
              "      <td>abajo suscrito</td>\n",
              "      <td>suscrito</td>\n",
              "      <td>Redundancia</td>\n",
              "    </tr>\n",
              "    <tr>\n",
              "      <th>1</th>\n",
              "      <td>abajo suscrita</td>\n",
              "      <td>suscrita</td>\n",
              "      <td>Redundancia</td>\n",
              "    </tr>\n",
              "    <tr>\n",
              "      <th>2</th>\n",
              "      <td>abajo suscritos</td>\n",
              "      <td>suscritos</td>\n",
              "      <td>Redundancia</td>\n",
              "    </tr>\n",
              "    <tr>\n",
              "      <th>3</th>\n",
              "      <td>abajo suscritas</td>\n",
              "      <td>suscritas</td>\n",
              "      <td>Redundancia</td>\n",
              "    </tr>\n",
              "    <tr>\n",
              "      <th>4</th>\n",
              "      <td>acalorado de calor</td>\n",
              "      <td>acalorado</td>\n",
              "      <td>Redundancia</td>\n",
              "    </tr>\n",
              "  </tbody>\n",
              "</table>\n",
              "</div>"
            ],
            "text/plain": [
              "                    0          1            2\n",
              "0      abajo suscrito   suscrito  Redundancia\n",
              "1      abajo suscrita   suscrita  Redundancia\n",
              "2     abajo suscritos  suscritos  Redundancia\n",
              "3     abajo suscritas  suscritas  Redundancia\n",
              "4  acalorado de calor  acalorado  Redundancia"
            ]
          },
          "metadata": {
            "tags": []
          },
          "execution_count": 51
        }
      ]
    },
    {
      "cell_type": "code",
      "metadata": {
        "id": "0TqWaaN0PGyX"
      },
      "source": [
        "#path = r'GPT3_Categoria_0{}.txt'.format(a)\n",
        "handler = open(path)\n",
        "contenido = handler.read()"
      ],
      "execution_count": null,
      "outputs": []
    },
    {
      "cell_type": "code",
      "metadata": {
        "colab": {
          "base_uri": "https://localhost:8080/"
        },
        "id": "HHNsq0ElPGtt",
        "outputId": "b22a3dad-c7a9-42f1-da72-5868eb6ec369"
      },
      "source": [
        "print(contenido)"
      ],
      "execution_count": null,
      "outputs": [
        {
          "output_type": "stream",
          "text": [
            "<!--comment_replace-->\n",
            "<rule id=\"id_replace\" name=\"name_replace\">\n",
            " <pattern>\n",
            "  <token>token_replace</token>\n",
            " </pattern>\n",
            " <message>message_replace</message>\n",
            " <suggestion>sugestion_replace</suggestion>\n",
            "</rule>\n"
          ],
          "name": "stdout"
        }
      ]
    },
    {
      "cell_type": "code",
      "metadata": {
        "id": "bLpJvShSUMpo",
        "colab": {
          "base_uri": "https://localhost:8080/",
          "height": 35
        },
        "outputId": "f91ed479-fb77-44a1-b4a8-fa8dc7168c9a"
      },
      "source": [
        "contenido"
      ],
      "execution_count": null,
      "outputs": [
        {
          "output_type": "execute_result",
          "data": {
            "application/vnd.google.colaboratory.intrinsic+json": {
              "type": "string"
            },
            "text/plain": [
              "'<!--comment_replace-->\\n<rule id=\"id_replace\" name=\"name_replace\">\\n <pattern>\\n  <token>token_replace</token>\\n </pattern>\\n <message>message_replace</message>\\n <suggestion>sugestion_replace</suggestion>\\n</rule>'"
            ]
          },
          "metadata": {
            "tags": []
          },
          "execution_count": 54
        }
      ]
    },
    {
      "cell_type": "code",
      "metadata": {
        "colab": {
          "base_uri": "https://localhost:8080/",
          "height": 204
        },
        "id": "UFAhBgscVqig",
        "outputId": "4764a69b-1989-4284-bb9c-6abe63b0cd6a"
      },
      "source": [
        "matriz_reemplazos"
      ],
      "execution_count": null,
      "outputs": [
        {
          "output_type": "execute_result",
          "data": {
            "text/html": [
              "<div>\n",
              "<style scoped>\n",
              "    .dataframe tbody tr th:only-of-type {\n",
              "        vertical-align: middle;\n",
              "    }\n",
              "\n",
              "    .dataframe tbody tr th {\n",
              "        vertical-align: top;\n",
              "    }\n",
              "\n",
              "    .dataframe thead th {\n",
              "        text-align: right;\n",
              "    }\n",
              "</style>\n",
              "<table border=\"1\" class=\"dataframe\">\n",
              "  <thead>\n",
              "    <tr style=\"text-align: right;\">\n",
              "      <th></th>\n",
              "      <th>0</th>\n",
              "      <th>1</th>\n",
              "      <th>2</th>\n",
              "    </tr>\n",
              "  </thead>\n",
              "  <tbody>\n",
              "    <tr>\n",
              "      <th>0</th>\n",
              "      <td>abajo suscrito</td>\n",
              "      <td>suscrito</td>\n",
              "      <td>Redundancia</td>\n",
              "    </tr>\n",
              "    <tr>\n",
              "      <th>1</th>\n",
              "      <td>abajo suscrita</td>\n",
              "      <td>suscrita</td>\n",
              "      <td>Redundancia</td>\n",
              "    </tr>\n",
              "    <tr>\n",
              "      <th>2</th>\n",
              "      <td>abajo suscritos</td>\n",
              "      <td>suscritos</td>\n",
              "      <td>Redundancia</td>\n",
              "    </tr>\n",
              "    <tr>\n",
              "      <th>3</th>\n",
              "      <td>abajo suscritas</td>\n",
              "      <td>suscritas</td>\n",
              "      <td>Redundancia</td>\n",
              "    </tr>\n",
              "    <tr>\n",
              "      <th>4</th>\n",
              "      <td>acalorado de calor</td>\n",
              "      <td>acalorado</td>\n",
              "      <td>Redundancia</td>\n",
              "    </tr>\n",
              "  </tbody>\n",
              "</table>\n",
              "</div>"
            ],
            "text/plain": [
              "                    0          1            2\n",
              "0      abajo suscrito   suscrito  Redundancia\n",
              "1      abajo suscrita   suscrita  Redundancia\n",
              "2     abajo suscritos  suscritos  Redundancia\n",
              "3     abajo suscritas  suscritas  Redundancia\n",
              "4  acalorado de calor  acalorado  Redundancia"
            ]
          },
          "metadata": {
            "tags": []
          },
          "execution_count": 55
        }
      ]
    },
    {
      "cell_type": "code",
      "metadata": {
        "colab": {
          "base_uri": "https://localhost:8080/"
        },
        "id": "4-hv_L2JWef2",
        "outputId": "93934cb1-09e2-4559-892f-d4c622a0c11e"
      },
      "source": [
        "print(contenido)"
      ],
      "execution_count": null,
      "outputs": [
        {
          "output_type": "stream",
          "text": [
            "<!--comment_replace-->\n",
            "<rule id=\"id_replace\" name=\"name_replace\">\n",
            " <pattern>\n",
            "  <token>token_replace</token>\n",
            " </pattern>\n",
            " <message>message_replace</message>\n",
            " <suggestion>sugestion_replace</suggestion>\n",
            "</rule>\n"
          ],
          "name": "stdout"
        }
      ]
    },
    {
      "cell_type": "code",
      "metadata": {
        "id": "G_atdnTnXAeK"
      },
      "source": [
        "comment_replace = 'comment'\n",
        "id_replace = matriz_reemplazos[0][0] + '/' + matriz_reemplazos[1][0]\n",
        "name_replace = id_replace\n",
        "token_replace = matriz_reemplazos[0][0]\n",
        "message_replace = matriz_reemplazos[2][0]\n",
        "sugestion_replace = matriz_reemplazos[1][0]"
      ],
      "execution_count": null,
      "outputs": []
    },
    {
      "cell_type": "code",
      "metadata": {
        "id": "8-M31nORYB0q"
      },
      "source": [
        "contenido_temp = contenido.replace(\"comment_replace\", comment_replace)\n",
        "contenido_temp = contenido_temp.replace(\"id_replace\", id_replace)\n",
        "contenido_temp = contenido_temp.replace(\"name_replace\", name_replace)\n",
        "contenido_temp = contenido_temp.replace(\"token_replace\", token_replace)\n",
        "contenido_temp = contenido_temp.replace(\"message_replace\", message_replace)\n",
        "contenido_temp = contenido_temp.replace(\"sugestion_replace\", sugestion_replace)"
      ],
      "execution_count": null,
      "outputs": []
    },
    {
      "cell_type": "code",
      "metadata": {
        "colab": {
          "base_uri": "https://localhost:8080/"
        },
        "id": "u8SzoaVBOr9C",
        "outputId": "e2af82ca-7cb0-4762-c696-1c18072e8494"
      },
      "source": [
        "print(contenido_temp)"
      ],
      "execution_count": null,
      "outputs": [
        {
          "output_type": "stream",
          "text": [
            "<!--comment-->\n",
            "<rule id=\"abajo suscrito/suscrito\" name=\"abajo suscrito/suscrito\">\n",
            " <pattern>\n",
            "  <token>abajo suscrito</token>\n",
            " </pattern>\n",
            " <message>Redundancia</message>\n",
            " <suggestion>suscrito</suggestion>\n",
            "</rule>\n"
          ],
          "name": "stdout"
        }
      ]
    },
    {
      "cell_type": "code",
      "metadata": {
        "colab": {
          "base_uri": "https://localhost:8080/",
          "height": 204
        },
        "id": "qGQy-hjlaWO0",
        "outputId": "9c6a4574-bd1a-4810-9499-80bbc6bc0d3f"
      },
      "source": [
        "matriz_reemplazos"
      ],
      "execution_count": null,
      "outputs": [
        {
          "output_type": "execute_result",
          "data": {
            "text/html": [
              "<div>\n",
              "<style scoped>\n",
              "    .dataframe tbody tr th:only-of-type {\n",
              "        vertical-align: middle;\n",
              "    }\n",
              "\n",
              "    .dataframe tbody tr th {\n",
              "        vertical-align: top;\n",
              "    }\n",
              "\n",
              "    .dataframe thead th {\n",
              "        text-align: right;\n",
              "    }\n",
              "</style>\n",
              "<table border=\"1\" class=\"dataframe\">\n",
              "  <thead>\n",
              "    <tr style=\"text-align: right;\">\n",
              "      <th></th>\n",
              "      <th>0</th>\n",
              "      <th>1</th>\n",
              "      <th>2</th>\n",
              "    </tr>\n",
              "  </thead>\n",
              "  <tbody>\n",
              "    <tr>\n",
              "      <th>0</th>\n",
              "      <td>abajo suscrito</td>\n",
              "      <td>suscrito</td>\n",
              "      <td>Redundancia</td>\n",
              "    </tr>\n",
              "    <tr>\n",
              "      <th>1</th>\n",
              "      <td>abajo suscrita</td>\n",
              "      <td>suscrita</td>\n",
              "      <td>Redundancia</td>\n",
              "    </tr>\n",
              "    <tr>\n",
              "      <th>2</th>\n",
              "      <td>abajo suscritos</td>\n",
              "      <td>suscritos</td>\n",
              "      <td>Redundancia</td>\n",
              "    </tr>\n",
              "    <tr>\n",
              "      <th>3</th>\n",
              "      <td>abajo suscritas</td>\n",
              "      <td>suscritas</td>\n",
              "      <td>Redundancia</td>\n",
              "    </tr>\n",
              "    <tr>\n",
              "      <th>4</th>\n",
              "      <td>acalorado de calor</td>\n",
              "      <td>acalorado</td>\n",
              "      <td>Redundancia</td>\n",
              "    </tr>\n",
              "  </tbody>\n",
              "</table>\n",
              "</div>"
            ],
            "text/plain": [
              "                    0          1            2\n",
              "0      abajo suscrito   suscrito  Redundancia\n",
              "1      abajo suscrita   suscrita  Redundancia\n",
              "2     abajo suscritos  suscritos  Redundancia\n",
              "3     abajo suscritas  suscritas  Redundancia\n",
              "4  acalorado de calor  acalorado  Redundancia"
            ]
          },
          "metadata": {
            "tags": []
          },
          "execution_count": 64
        }
      ]
    },
    {
      "cell_type": "code",
      "metadata": {
        "colab": {
          "base_uri": "https://localhost:8080/"
        },
        "id": "2ozhc4a8aWMQ",
        "outputId": "a192cc65-707a-404b-9a67-0b5fb30da78f"
      },
      "source": [
        "len(matriz_reemplazos)"
      ],
      "execution_count": null,
      "outputs": [
        {
          "output_type": "execute_result",
          "data": {
            "text/plain": [
              "5"
            ]
          },
          "metadata": {
            "tags": []
          },
          "execution_count": 68
        }
      ]
    },
    {
      "cell_type": "code",
      "metadata": {
        "id": "5x6FtJ1daVmg"
      },
      "source": [
        ""
      ],
      "execution_count": null,
      "outputs": []
    },
    {
      "cell_type": "code",
      "metadata": {
        "id": "zafnAcRYOr_m"
      },
      "source": [
        "def compilador_reemplazos(matriz_reemplazos, contenido):\n",
        "  salida_temp=''\n",
        "  for index in range(len(matriz_reemplazos)):\n",
        "\n",
        "    contenido\n",
        "    \n",
        "    comment_replace = 'comment'\n",
        "    id_replace = matriz_reemplazos[0][index] + '/' + matriz_reemplazos[1][index]\n",
        "    name_replace = id_replace\n",
        "    token_replace = matriz_reemplazos[0][index]\n",
        "    message_replace = matriz_reemplazos[2][index]\n",
        "    sugestion_replace = matriz_reemplazos[1][index]\n",
        "\n",
        "    contenido_temp = contenido.replace(\"comment_replace\", comment_replace)\n",
        "    contenido_temp = contenido_temp.replace(\"id_replace\", id_replace)\n",
        "    contenido_temp = contenido_temp.replace(\"name_replace\", name_replace)\n",
        "    contenido_temp = contenido_temp.replace(\"token_replace\", token_replace)\n",
        "    contenido_temp = contenido_temp.replace(\"message_replace\", message_replace)\n",
        "    contenido_temp = contenido_temp.replace(\"sugestion_replace\", sugestion_replace)\n",
        "\n",
        "    salida_temp+=contenido_temp+'\\n\\n'\n",
        "\n",
        "  return salida_temp"
      ],
      "execution_count": null,
      "outputs": []
    },
    {
      "cell_type": "code",
      "metadata": {
        "colab": {
          "base_uri": "https://localhost:8080/",
          "height": 103
        },
        "id": "75YPoTgZcyw9",
        "outputId": "952668e8-9c42-4fd2-8525-e5649cb15849"
      },
      "source": [
        "salida = compilador_reemplazos(matriz_reemplazos, contenido)\n",
        "salida"
      ],
      "execution_count": null,
      "outputs": [
        {
          "output_type": "execute_result",
          "data": {
            "application/vnd.google.colaboratory.intrinsic+json": {
              "type": "string"
            },
            "text/plain": [
              "'<!--comment-->\\n<rule id=\"abajo suscrito/suscrito\" name=\"abajo suscrito/suscrito\">\\n <pattern>\\n  <token>abajo suscrito</token>\\n </pattern>\\n <message>Redundancia</message>\\n <suggestion>suscrito</suggestion>\\n</rule>\\n\\n<!--comment-->\\n<rule id=\"abajo suscrita/suscrita\" name=\"abajo suscrita/suscrita\">\\n <pattern>\\n  <token>abajo suscrita</token>\\n </pattern>\\n <message>Redundancia</message>\\n <suggestion>suscrita</suggestion>\\n</rule>\\n\\n<!--comment-->\\n<rule id=\"abajo suscritos/suscritos\" name=\"abajo suscritos/suscritos\">\\n <pattern>\\n  <token>abajo suscritos</token>\\n </pattern>\\n <message>Redundancia</message>\\n <suggestion>suscritos</suggestion>\\n</rule>\\n\\n<!--comment-->\\n<rule id=\"abajo suscritas/suscritas\" name=\"abajo suscritas/suscritas\">\\n <pattern>\\n  <token>abajo suscritas</token>\\n </pattern>\\n <message>Redundancia</message>\\n <suggestion>suscritas</suggestion>\\n</rule>\\n\\n<!--comment-->\\n<rule id=\"acalorado de calor/acalorado\" name=\"acalorado de calor/acalorado\">\\n <pattern>\\n  <token>acalorado de calor</token>\\n </pattern>\\n <message>Redundancia</message>\\n <suggestion>acalorado</suggestion>\\n</rule>\\n\\n'"
            ]
          },
          "metadata": {
            "tags": []
          },
          "execution_count": 79
        }
      ]
    },
    {
      "cell_type": "code",
      "metadata": {
        "colab": {
          "base_uri": "https://localhost:8080/"
        },
        "id": "nWLAlpZDcyuI",
        "outputId": "1a7c7869-8bf0-4640-d3ee-47afdddac229"
      },
      "source": [
        "print(salida)"
      ],
      "execution_count": null,
      "outputs": [
        {
          "output_type": "stream",
          "text": [
            "<!--comment-->\n",
            "<rule id=\"abajo suscrito/suscrito\" name=\"abajo suscrito/suscrito\">\n",
            " <pattern>\n",
            "  <token>abajo suscrito</token>\n",
            " </pattern>\n",
            " <message>Redundancia</message>\n",
            " <suggestion>suscrito</suggestion>\n",
            "</rule>\n",
            "\n",
            "<!--comment-->\n",
            "<rule id=\"abajo suscrita/suscrita\" name=\"abajo suscrita/suscrita\">\n",
            " <pattern>\n",
            "  <token>abajo suscrita</token>\n",
            " </pattern>\n",
            " <message>Redundancia</message>\n",
            " <suggestion>suscrita</suggestion>\n",
            "</rule>\n",
            "\n",
            "<!--comment-->\n",
            "<rule id=\"abajo suscritos/suscritos\" name=\"abajo suscritos/suscritos\">\n",
            " <pattern>\n",
            "  <token>abajo suscritos</token>\n",
            " </pattern>\n",
            " <message>Redundancia</message>\n",
            " <suggestion>suscritos</suggestion>\n",
            "</rule>\n",
            "\n",
            "<!--comment-->\n",
            "<rule id=\"abajo suscritas/suscritas\" name=\"abajo suscritas/suscritas\">\n",
            " <pattern>\n",
            "  <token>abajo suscritas</token>\n",
            " </pattern>\n",
            " <message>Redundancia</message>\n",
            " <suggestion>suscritas</suggestion>\n",
            "</rule>\n",
            "\n",
            "<!--comment-->\n",
            "<rule id=\"acalorado de calor/acalorado\" name=\"acalorado de calor/acalorado\">\n",
            " <pattern>\n",
            "  <token>acalorado de calor</token>\n",
            " </pattern>\n",
            " <message>Redundancia</message>\n",
            " <suggestion>acalorado</suggestion>\n",
            "</rule>\n",
            "\n",
            "\n"
          ],
          "name": "stdout"
        }
      ]
    },
    {
      "cell_type": "code",
      "metadata": {
        "id": "--_qHkPxcyrs"
      },
      "source": [
        "text_file = open(\"/content/drive/MyDrive/Colab Notebooks/Trascender_Global_Colab/P_01_iScribo/iScribo_Data/Modificador/Output.txt\", \"w\")\n",
        "text_file.write(salida)\n",
        "text_file.close()"
      ],
      "execution_count": null,
      "outputs": []
    },
    {
      "cell_type": "code",
      "metadata": {
        "id": "VVg_h_QkOsBs"
      },
      "source": [
        ""
      ],
      "execution_count": null,
      "outputs": []
    },
    {
      "cell_type": "code",
      "metadata": {
        "id": "zbc97QEoOsGY"
      },
      "source": [
        ""
      ],
      "execution_count": null,
      "outputs": []
    },
    {
      "cell_type": "code",
      "metadata": {
        "id": "WSFkpINFOsIN"
      },
      "source": [
        ""
      ],
      "execution_count": null,
      "outputs": []
    },
    {
      "cell_type": "code",
      "metadata": {
        "id": "_z05oEhyOsKe"
      },
      "source": [
        ""
      ],
      "execution_count": null,
      "outputs": []
    },
    {
      "cell_type": "code",
      "metadata": {
        "id": "N7EP2DhbOsQ3"
      },
      "source": [
        ""
      ],
      "execution_count": null,
      "outputs": []
    },
    {
      "cell_type": "code",
      "metadata": {
        "id": "kqFqerUTOsTa"
      },
      "source": [
        ""
      ],
      "execution_count": null,
      "outputs": []
    }
  ]
}